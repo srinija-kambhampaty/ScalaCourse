{
 "cells": [
  {
   "cell_type": "markdown",
   "metadata": {},
   "source": [
    "### Functions "
   ]
  },
  {
   "cell_type": "code",
   "execution_count": 18,
   "metadata": {},
   "outputs": [
    {
     "name": "stdout",
     "output_type": "stream",
     "text": [
      "Hi srinija! of age 22\n"
     ]
    },
    {
     "data": {
      "text/plain": [
       "defined \u001b[32mfunction\u001b[39m \u001b[36mfirst\u001b[39m"
      ]
     },
     "execution_count": 18,
     "metadata": {},
     "output_type": "execute_result"
    }
   ],
   "source": [
    "def first(name: String,age: Int): String = { \n",
    "    return \"Hi \" + name + \"! of age \" + age\n",
    "}\n",
    "println(first(\"srinija\" , 22))"
   ]
  },
  {
   "cell_type": "code",
   "execution_count": 19,
   "metadata": {},
   "outputs": [
    {
     "name": "stdout",
     "output_type": "stream",
     "text": [
      "Hi srinija! of age 22\n"
     ]
    },
    {
     "data": {
      "text/plain": [
       "defined \u001b[32mfunction\u001b[39m \u001b[36mfirst\u001b[39m"
      ]
     },
     "execution_count": 19,
     "metadata": {},
     "output_type": "execute_result"
    }
   ],
   "source": [
    "def first(name: String,age: Int): String = { \n",
    "    \"Hi \" + name + \"! of age \" + age\n",
    "}\n",
    "println(first(\"srinija\" , 22))"
   ]
  },
  {
   "cell_type": "code",
   "execution_count": 20,
   "metadata": {},
   "outputs": [
    {
     "name": "stdout",
     "output_type": "stream",
     "text": [
      "Welcome\n",
      "Hi srinija! of age 22\n"
     ]
    },
    {
     "data": {
      "text/plain": [
       "defined \u001b[32mfunction\u001b[39m \u001b[36mfirst\u001b[39m"
      ]
     },
     "execution_count": 20,
     "metadata": {},
     "output_type": "execute_result"
    }
   ],
   "source": [
    "def first(name: String,age: Int): String = { \n",
    "    println(\"Welcome\")\n",
    "    \"Hi \" + name + \"! of age \" + age\n",
    "}\n",
    "println(first(\"srinija\" , 22))"
   ]
  },
  {
   "cell_type": "code",
   "execution_count": 21,
   "metadata": {},
   "outputs": [
    {
     "name": "stdout",
     "output_type": "stream",
     "text": [
      "Hi Srinja! of age 22\n"
     ]
    },
    {
     "data": {
      "text/plain": [
       "defined \u001b[32mfunction\u001b[39m \u001b[36mfirst\u001b[39m"
      ]
     },
     "execution_count": 21,
     "metadata": {},
     "output_type": "execute_result"
    }
   ],
   "source": [
    "def first(name: String,age: Int):String = \"Hi \" + name + \"! of age \" +  age\n",
    "println(first(\"Srinja\",22))"
   ]
  },
  {
   "cell_type": "code",
   "execution_count": 22,
   "metadata": {},
   "outputs": [
    {
     "name": "stdout",
     "output_type": "stream",
     "text": [
      "sum: 5\n"
     ]
    },
    {
     "data": {
      "text/plain": [
       "defined \u001b[32mfunction\u001b[39m \u001b[36msum\u001b[39m\n",
       "\u001b[36mx\u001b[39m: \u001b[32mInt\u001b[39m = \u001b[32m5\u001b[39m"
      ]
     },
     "execution_count": 22,
     "metadata": {},
     "output_type": "execute_result"
    }
   ],
   "source": [
    "def sum(a: Int, b:Int): Int = a+b\n",
    "val x:Int = sum(2,3)\n",
    "println(s\"sum: $x\")"
   ]
  },
  {
   "cell_type": "markdown",
   "metadata": {},
   "source": [
    "##### Variable can hold functions : implicit and expicit "
   ]
  },
  {
   "cell_type": "code",
   "execution_count": 23,
   "metadata": {},
   "outputs": [
    {
     "name": "stdout",
     "output_type": "stream",
     "text": [
      "sum: 5\n"
     ]
    },
    {
     "data": {
      "text/html": [
       "<div class=\"jp-RenderedText\">\n",
       "<pre><code><span style=\"color: rgb(0, 187, 187)\"><span class=\"ansi-cyan-fg\">sum</span></span>: (<span style=\"color: rgb(0, 187, 0)\"><span class=\"ansi-green-fg\">Int</span></span>, <span style=\"color: rgb(0, 187, 0)\"><span class=\"ansi-green-fg\">Int</span></span>) =&gt; <span style=\"color: rgb(0, 187, 0)\"><span class=\"ansi-green-fg\">Int</span></span> = ammonite.$sess.cmd23$Helper$$Lambda/0x00001000016e0800@8956dc0\n",
       "<span style=\"color: rgb(0, 187, 187)\"><span class=\"ansi-cyan-fg\">x</span></span>: <span style=\"color: rgb(0, 187, 0)\"><span class=\"ansi-green-fg\">Int</span></span> = <span style=\"color: rgb(0, 187, 0)\"><span class=\"ansi-green-fg\">5</span></span></code></pre>\n",
       "</div>"
      ],
      "text/plain": [
       "\u001b[36msum\u001b[39m: (\u001b[32mInt\u001b[39m, \u001b[32mInt\u001b[39m) => \u001b[32mInt\u001b[39m = ammonite.$sess.cmd23$Helper$$Lambda/0x00001000016e0800@8956dc0\n",
       "\u001b[36mx\u001b[39m: \u001b[32mInt\u001b[39m = \u001b[32m5\u001b[39m"
      ]
     },
     "metadata": {},
     "output_type": "display_data"
    }
   ],
   "source": [
    "var sum = (a: Int, b: Int) => a+b\n",
    "val x:Int = sum(2,3)\n",
    "println(s\"sum: $x\") \n"
   ]
  },
  {
   "cell_type": "code",
   "execution_count": 24,
   "metadata": {},
   "outputs": [
    {
     "name": "stdout",
     "output_type": "stream",
     "text": [
      "sum: 5\n"
     ]
    },
    {
     "data": {
      "text/html": [
       "<div class=\"jp-RenderedText\">\n",
       "<pre><code><span style=\"color: rgb(0, 187, 187)\"><span class=\"ansi-cyan-fg\">sum</span></span>: (<span style=\"color: rgb(0, 187, 0)\"><span class=\"ansi-green-fg\">Int</span></span>, <span style=\"color: rgb(0, 187, 0)\"><span class=\"ansi-green-fg\">Int</span></span>) =&gt; <span style=\"color: rgb(0, 187, 0)\"><span class=\"ansi-green-fg\">Long</span></span> = ammonite.$sess.cmd24$Helper$$Lambda/0x00001000014c3a08@7efd4f33\n",
       "<span style=\"color: rgb(0, 187, 187)\"><span class=\"ansi-cyan-fg\">x</span></span>: <span style=\"color: rgb(0, 187, 0)\"><span class=\"ansi-green-fg\">Long</span></span> = <span style=\"color: rgb(0, 187, 0)\"><span class=\"ansi-green-fg\">5L</span></span></code></pre>\n",
       "</div>"
      ],
      "text/plain": [
       "\u001b[36msum\u001b[39m: (\u001b[32mInt\u001b[39m, \u001b[32mInt\u001b[39m) => \u001b[32mLong\u001b[39m = ammonite.$sess.cmd24$Helper$$Lambda/0x00001000014c3a08@7efd4f33\n",
       "\u001b[36mx\u001b[39m: \u001b[32mLong\u001b[39m = \u001b[32m5L\u001b[39m"
      ]
     },
     "metadata": {},
     "output_type": "display_data"
    }
   ],
   "source": [
    "var sum: (Int, Int)  => Long = (a,b) => a+b\n",
    "val x:Long = sum(2,3)\n",
    "println(s\"sum: $x\") "
   ]
  },
  {
   "cell_type": "code",
   "execution_count": 25,
   "metadata": {},
   "outputs": [
    {
     "name": "stdout",
     "output_type": "stream",
     "text": [
      "sum: 5\n"
     ]
    },
    {
     "data": {
      "text/html": [
       "<div class=\"jp-RenderedText\">\n",
       "<pre><code><span style=\"color: rgb(0, 187, 187)\"><span class=\"ansi-cyan-fg\">sum</span></span>: (<span style=\"color: rgb(0, 187, 0)\"><span class=\"ansi-green-fg\">Int</span></span>, <span style=\"color: rgb(0, 187, 0)\"><span class=\"ansi-green-fg\">Int</span></span>) =&gt; <span style=\"color: rgb(0, 187, 0)\"><span class=\"ansi-green-fg\">Long</span></span> = ammonite.$sess.cmd25$Helper$$Lambda/0x0000100001ad8000@76425da6\n",
       "<span style=\"color: rgb(0, 187, 187)\"><span class=\"ansi-cyan-fg\">x</span></span>: <span style=\"color: rgb(0, 187, 0)\"><span class=\"ansi-green-fg\">Long</span></span> = <span style=\"color: rgb(0, 187, 0)\"><span class=\"ansi-green-fg\">5L</span></span></code></pre>\n",
       "</div>"
      ],
      "text/plain": [
       "\u001b[36msum\u001b[39m: (\u001b[32mInt\u001b[39m, \u001b[32mInt\u001b[39m) => \u001b[32mLong\u001b[39m = ammonite.$sess.cmd25$Helper$$Lambda/0x0000100001ad8000@76425da6\n",
       "\u001b[36mx\u001b[39m: \u001b[32mLong\u001b[39m = \u001b[32m5L\u001b[39m"
      ]
     },
     "metadata": {},
     "output_type": "display_data"
    }
   ],
   "source": [
    "var sum: (Int, Int)  => Long = (a,b) => a+b\n",
    "val x:Long = sum(2,3)\n",
    "println(s\"sum: $x\") "
   ]
  },
  {
   "cell_type": "code",
   "execution_count": 26,
   "metadata": {},
   "outputs": [
    {
     "name": "stdout",
     "output_type": "stream",
     "text": [
      "Hello Srinja\n",
      "class ammonite.$sess.cmd26$Helper$$Lambda/0x0000100001ad9470\n"
     ]
    },
    {
     "data": {
      "text/plain": [
       "defined \u001b[32mfunction\u001b[39m \u001b[36mprocess\u001b[39m\n",
       "\u001b[36mx\u001b[39m: \u001b[32mString\u001b[39m => \u001b[32mString\u001b[39m = ammonite.$sess.cmd26$Helper$$Lambda/0x0000100001ad9470@e787c8e"
      ]
     },
     "execution_count": 26,
     "metadata": {},
     "output_type": "execute_result"
    }
   ],
   "source": [
    "def process(s: String) : String = s\"Hello $s\"\n",
    "val x =  process _\n",
    "println(x(\"Srinja\"))\n",
    "println(x.getClass)"
   ]
  },
  {
   "cell_type": "code",
   "execution_count": 27,
   "metadata": {},
   "outputs": [
    {
     "name": "stdout",
     "output_type": "stream",
     "text": [
      "Hello Srinija\n",
      "class ammonite.$sess.cmd27$Helper$$Lambda/0x0000100001ada6e8\n"
     ]
    },
    {
     "data": {
      "text/plain": [
       "defined \u001b[32mfunction\u001b[39m \u001b[36mprocess\u001b[39m\n",
       "\u001b[36my\u001b[39m: \u001b[32mString\u001b[39m => \u001b[32mString\u001b[39m = ammonite.$sess.cmd27$Helper$$Lambda/0x0000100001ada6e8@46935123"
      ]
     },
     "execution_count": 27,
     "metadata": {},
     "output_type": "execute_result"
    }
   ],
   "source": [
    "def process(s: String) : String = s\"Hello $s\"\n",
    "val y: String => String = process\n",
    "println(y(\"Srinija\"))\n",
    "println(y.getClass)"
   ]
  },
  {
   "cell_type": "markdown",
   "metadata": {},
   "source": [
    "#### Functions can hold functions"
   ]
  },
  {
   "cell_type": "code",
   "execution_count": 28,
   "metadata": {},
   "outputs": [
    {
     "name": "stdout",
     "output_type": "stream",
     "text": [
      "Starting the mainfuunction for loop\n",
      "Inside the second function srinija\n",
      "Ending the mainfunction for loop\n",
      "Starting the mainfuunction for loop\n",
      "Inside the second function srinija\n",
      "Ending the mainfunction for loop\n",
      "Starting the mainfuunction for loop\n",
      "Inside the second function srinija\n",
      "Ending the mainfunction for loop\n",
      "Done\n"
     ]
    },
    {
     "data": {
      "text/plain": [
       "defined \u001b[32mfunction\u001b[39m \u001b[36mmainfunction\u001b[39m\n",
       "defined \u001b[32mfunction\u001b[39m \u001b[36msubfunction\u001b[39m"
      ]
     },
     "execution_count": 28,
     "metadata": {},
     "output_type": "execute_result"
    }
   ],
   "source": [
    "def mainfunction(n:Int, method: (String) => String) = {\n",
    "    for(i <- 1 to n){\n",
    "        println(\"Starting the mainfuunction for loop\")\n",
    "        val x:String = method(\"srinija\")\n",
    "        println(x)\n",
    "        println(\"Ending the mainfunction for loop\")\n",
    "    }\n",
    "    println(\"Done\")\n",
    "}\n",
    "\n",
    "def subfunction(s:String): String = s\"Inside the second function $s\"\n",
    "\n",
    "mainfunction(3,subfunction)"
   ]
  },
  {
   "cell_type": "code",
   "execution_count": 29,
   "metadata": {},
   "outputs": [
    {
     "name": "stdout",
     "output_type": "stream",
     "text": [
      "Starting the mainfuunction for loop\n",
      "lamda processing srinija\n",
      "Ending the mainfunction for loop\n",
      "Starting the mainfuunction for loop\n",
      "lamda processing srinija\n",
      "Ending the mainfunction for loop\n",
      "Starting the mainfuunction for loop\n",
      "lamda processing srinija\n",
      "Ending the mainfunction for loop\n",
      "Done\n"
     ]
    }
   ],
   "source": [
    "mainfunction(3,(x:String) =>  s\"lamda processing $x\")"
   ]
  },
  {
   "cell_type": "code",
   "execution_count": 30,
   "metadata": {},
   "outputs": [
    {
     "name": "stdout",
     "output_type": "stream",
     "text": [
      "hello\n"
     ]
    },
    {
     "data": {
      "text/plain": [
       "\u001b[36mx\u001b[39m: \u001b[32mString\u001b[39m => \u001b[32mUnit\u001b[39m = ammonite.$sess.cmd30$Helper$$Lambda/0x0000100001add6f8@4d0401ac"
      ]
     },
     "execution_count": 30,
     "metadata": {},
     "output_type": "execute_result"
    }
   ],
   "source": [
    "val x:String => Unit = x => println(x)\n",
    "x(\"hello\")"
   ]
  },
  {
   "cell_type": "code",
   "execution_count": 31,
   "metadata": {},
   "outputs": [
    {
     "data": {
      "text/plain": [
       "defined \u001b[32mfunction\u001b[39m \u001b[36mfilterIt\u001b[39m"
      ]
     },
     "execution_count": 31,
     "metadata": {},
     "output_type": "execute_result"
    }
   ],
   "source": [
    "\t\n",
    "def filterIt(elements:Array[Int],logic: Int=>Boolean): Array[Int] = {\n",
    "    var a: Int=0;\n",
    "    var count: Int=0;\n",
    "    for(data<-elements){\n",
    "        if(logic(data))\n",
    "            {\n",
    "                count+=1;\n",
    "            }\n",
    "    }\n",
    "    val arr=Array.fill(count)(0)\n",
    "    for(data<-elements){\n",
    "        if(logic(data))\n",
    "            {\n",
    "                arr(a)=data \n",
    "                a+=1\n",
    "            }\n",
    "    }\n",
    "    return arr\n",
    "}"
   ]
  }
 ],
 "metadata": {
  "kernelspec": {
   "display_name": "Scala",
   "language": "scala",
   "name": "scala"
  },
  "language_info": {
   "codemirror_mode": "text/x-scala",
   "file_extension": ".sc",
   "mimetype": "text/x-scala",
   "name": "scala",
   "nbconvert_exporter": "script",
   "version": "2.13.14"
  }
 },
 "nbformat": 4,
 "nbformat_minor": 2
}
