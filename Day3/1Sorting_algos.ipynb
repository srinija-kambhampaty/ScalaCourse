{
 "cells": [
  {
   "cell_type": "markdown",
   "metadata": {},
   "source": [
    "#### Bubble Sort"
   ]
  },
  {
   "cell_type": "code",
   "execution_count": 7,
   "metadata": {},
   "outputs": [
    {
     "data": {
      "text/plain": [
       "defined \u001b[32mfunction\u001b[39m \u001b[36mswap\u001b[39m"
      ]
     },
     "execution_count": 7,
     "metadata": {},
     "output_type": "execute_result"
    }
   ],
   "source": [
    "def swap(arr: Array[Int], i: Int, j: Int): Unit = {\n",
    "    val temp = arr(i)\n",
    "    arr(i) = arr(j)\n",
    "    arr(j) = temp\n",
    "}\n",
    "// val array = Array(1, 2, 3, 4, 5)\n",
    "// swap(array, 1, 3) \n",
    "// for(i<- array){\n",
    "//     print(i)\n",
    "// }\n"
   ]
  },
  {
   "cell_type": "code",
   "execution_count": 8,
   "metadata": {},
   "outputs": [
    {
     "name": "stdout",
     "output_type": "stream",
     "text": [
      "BubbleSorted Output: \n",
      " 1  2  3  4  8 "
     ]
    },
    {
     "data": {
      "text/plain": [
       "defined \u001b[32mfunction\u001b[39m \u001b[36mbubblesort\u001b[39m\n",
       "\u001b[36mresult\u001b[39m: \u001b[32mArray\u001b[39m[\u001b[32mInt\u001b[39m] = \u001b[33mArray\u001b[39m(\u001b[32m1\u001b[39m, \u001b[32m2\u001b[39m, \u001b[32m3\u001b[39m, \u001b[32m4\u001b[39m, \u001b[32m8\u001b[39m)"
      ]
     },
     "execution_count": 8,
     "metadata": {},
     "output_type": "execute_result"
    }
   ],
   "source": [
    "def bubblesort(arr: Array[Int]): Array[Int] = {\n",
    "    val n: Int = arr.length \n",
    "    for(i <- 0 until n-1){\n",
    "        var swapped:Boolean = false\n",
    "        for(j <- 0 until n-i-1){\n",
    "            if(arr(j) > arr(j+1)){\n",
    "                swap(arr,j+1,j)\n",
    "                swapped = true\n",
    "            }\n",
    "        }\n",
    "        if(!swapped){\n",
    "            return arr\n",
    "        }\n",
    "    }\n",
    "    return arr\n",
    "}\n",
    "val result: Array[Int] = bubblesort(Array(1,3,4,2,8))\n",
    "println(\"BubbleSorted Output: \")\n",
    "for(i <- result){\n",
    "    print(s\" $i\")\n",
    "    print(\" \")\n",
    "}"
   ]
  },
  {
   "cell_type": "markdown",
   "metadata": {},
   "source": [
    "#### Insertion Sort"
   ]
  },
  {
   "cell_type": "code",
   "execution_count": 9,
   "metadata": {},
   "outputs": [
    {
     "name": "stdout",
     "output_type": "stream",
     "text": [
      "InsertionSorted Output: \n",
      " 1  2  3  4  8 "
     ]
    },
    {
     "data": {
      "text/plain": [
       "defined \u001b[32mfunction\u001b[39m \u001b[36minsertionsort\u001b[39m\n",
       "\u001b[36mresult\u001b[39m: \u001b[32mArray\u001b[39m[\u001b[32mInt\u001b[39m] = \u001b[33mArray\u001b[39m(\u001b[32m1\u001b[39m, \u001b[32m2\u001b[39m, \u001b[32m3\u001b[39m, \u001b[32m4\u001b[39m, \u001b[32m8\u001b[39m)"
      ]
     },
     "execution_count": 9,
     "metadata": {},
     "output_type": "execute_result"
    }
   ],
   "source": [
    "def insertionsort(arr: Array[Int]): Array[Int] = {\n",
    "    val n: Int = arr.length\n",
    "    for(i <- 1 until n-1){\n",
    "        var x = arr(i)\n",
    "        var j  = i-1\n",
    "        while(j >= 0 && arr(j)>x){\n",
    "            arr(j+1) = arr(j)\n",
    "            j = j-1\n",
    "        }\n",
    "        arr(j+1) = x\n",
    "    }\n",
    "    return arr\n",
    "}\n",
    "val result: Array[Int] = insertionsort(Array(1,3,4,2,8))\n",
    "println(\"InsertionSorted Output: \")\n",
    "for(i <- result){\n",
    "    print(s\" $i\")\n",
    "    print(\" \")\n",
    "}\n"
   ]
  },
  {
   "cell_type": "markdown",
   "metadata": {},
   "source": [
    "#### Quick Sort"
   ]
  },
  {
   "cell_type": "code",
   "execution_count": 10,
   "metadata": {},
   "outputs": [
    {
     "name": "stdout",
     "output_type": "stream",
     "text": [
      "QuickSorted Output: \n",
      " 1  2  3  4  8 "
     ]
    },
    {
     "data": {
      "text/plain": [
       "defined \u001b[32mfunction\u001b[39m \u001b[36mquicksort\u001b[39m\n",
       "\u001b[36mresult\u001b[39m: \u001b[32mArray\u001b[39m[\u001b[32mInt\u001b[39m] = \u001b[33mArray\u001b[39m(\u001b[32m1\u001b[39m, \u001b[32m2\u001b[39m, \u001b[32m3\u001b[39m, \u001b[32m4\u001b[39m, \u001b[32m8\u001b[39m)"
      ]
     },
     "execution_count": 10,
     "metadata": {},
     "output_type": "execute_result"
    }
   ],
   "source": [
    "def quicksort(arr: Array[Int]): Array[Int] = {  \n",
    "    val n = arr.length\n",
    "    if (n <= 1) {\n",
    "        return arr\n",
    "    }                \n",
    "    var i = 0\n",
    "    var pivot = arr(n-1)\n",
    "    for(j <- 0 until n-1 ) {\n",
    "        if(arr(j) < pivot){\n",
    "            swap(arr,j,i)\n",
    "            i += 1\n",
    "        }\n",
    "    }\n",
    "    swap(arr, i , n-1)\n",
    "    val left = quicksort(arr.take(i))\n",
    "    val rgiht = quicksort(arr.drop(i+1))\n",
    "    left ++ Array(pivot) ++ rgiht\n",
    "}\n",
    "val result: Array[Int] = quicksort(Array(1,3,4,2,8))\n",
    "println(\"QuickSorted Output: \")\n",
    "for(i <- result){\n",
    "    print(s\" $i\")\n",
    "    print(\" \")\n",
    "}\n"
   ]
  },
  {
   "cell_type": "markdown",
   "metadata": {},
   "source": [
    "#### Heap Sort"
   ]
  },
  {
   "cell_type": "code",
   "execution_count": 11,
   "metadata": {},
   "outputs": [
    {
     "name": "stdout",
     "output_type": "stream",
     "text": [
      "HeapSorted Output: \n",
      " 1  2  3  4  8 "
     ]
    },
    {
     "data": {
      "text/plain": [
       "defined \u001b[32mfunction\u001b[39m \u001b[36mheapify\u001b[39m\n",
       "defined \u001b[32mfunction\u001b[39m \u001b[36mheapsort\u001b[39m\n",
       "\u001b[36mresult\u001b[39m: \u001b[32mArray\u001b[39m[\u001b[32mInt\u001b[39m] = \u001b[33mArray\u001b[39m(\u001b[32m1\u001b[39m, \u001b[32m2\u001b[39m, \u001b[32m3\u001b[39m, \u001b[32m4\u001b[39m, \u001b[32m8\u001b[39m)"
      ]
     },
     "execution_count": 11,
     "metadata": {},
     "output_type": "execute_result"
    }
   ],
   "source": [
    "def heapify(arr:Array[Int],n: Int, i:Int): Unit = {\n",
    "    var largest = i\n",
    "    var l = 2*i + 1 \n",
    "    var r = 2*i + 2\n",
    "    if(l<n && arr(l)>arr(largest))\n",
    "        largest = l\n",
    "    if(r<n && arr(r)>arr(largest))\n",
    "        largest = r;\n",
    "    if(largest != i){\n",
    "        swap(arr,i,largest)\n",
    "        heapify(arr,n,largest)\n",
    "    }\n",
    "}\n",
    "\n",
    "def heapsort(arr: Array[Int]): Array[Int] = {\n",
    "    val n = arr.length\n",
    "    for (i <- (n / 2 - 1) to 0 by -1){\n",
    "        heapify(arr,n,i)\n",
    "    }\n",
    "    for(i <- n-1 to 0 by -1){\n",
    "        swap(arr,0,i)\n",
    "        heapify(arr,i,0)\n",
    "    }\n",
    "    return arr\n",
    "}\n",
    "val result: Array[Int] = heapsort(Array(1,3,4,2,8))\n",
    "println(\"HeapSorted Output: \")\n",
    "for(i <- result){\n",
    "    print(s\" $i\")\n",
    "    print(\" \")\n",
    "}\n"
   ]
  },
  {
   "cell_type": "markdown",
   "metadata": {},
   "source": [
    "#### Selection Sort"
   ]
  },
  {
   "cell_type": "code",
   "execution_count": 12,
   "metadata": {},
   "outputs": [
    {
     "name": "stdout",
     "output_type": "stream",
     "text": [
      "SelectionSorted Output: \n",
      " 1  2  3  4  8 "
     ]
    },
    {
     "data": {
      "text/plain": [
       "defined \u001b[32mfunction\u001b[39m \u001b[36mselectionsort\u001b[39m\n",
       "\u001b[36mresult\u001b[39m: \u001b[32mArray\u001b[39m[\u001b[32mInt\u001b[39m] = \u001b[33mArray\u001b[39m(\u001b[32m1\u001b[39m, \u001b[32m2\u001b[39m, \u001b[32m3\u001b[39m, \u001b[32m4\u001b[39m, \u001b[32m8\u001b[39m)"
      ]
     },
     "execution_count": 12,
     "metadata": {},
     "output_type": "execute_result"
    }
   ],
   "source": [
    "def selectionsort(arr: Array[Int]): Array[Int] = {\n",
    "    val n: Int = arr.length\n",
    "    for(i <- 0 until n){\n",
    "        var high = i\n",
    "        for(j <- i+1 until n){\n",
    "            if(arr(j) < arr(high)){\n",
    "                high = j\n",
    "            }\n",
    "        }\n",
    "        swap(arr,i,high)\n",
    "    }\n",
    "    return arr\n",
    "}\n",
    "val result: Array[Int] = selectionsort(Array(1,3,4,2,8))\n",
    "println(\"SelectionSorted Output: \")\n",
    "for(i <- result){\n",
    "    print(s\" $i\")\n",
    "    print(\" \")\n",
    "}"
   ]
  }
 ],
 "metadata": {
  "kernelspec": {
   "display_name": "Scala",
   "language": "scala",
   "name": "scala"
  },
  "language_info": {
   "codemirror_mode": "text/x-scala",
   "file_extension": ".sc",
   "mimetype": "text/x-scala",
   "name": "scala",
   "nbconvert_exporter": "script",
   "version": "2.13.14"
  }
 },
 "nbformat": 4,
 "nbformat_minor": 2
}
