{
 "cells": [
  {
   "cell_type": "code",
   "execution_count": 1,
   "metadata": {},
   "outputs": [
    {
     "data": {
      "text/plain": [
       "defined \u001b[32mfunction\u001b[39m \u001b[36msquare\u001b[39m\n",
       "defined \u001b[32mfunction\u001b[39m \u001b[36msquare2\u001b[39m\n",
       "defined \u001b[32mfunction\u001b[39m \u001b[36msquare4\u001b[39m"
      ]
     },
     "execution_count": 1,
     "metadata": {},
     "output_type": "execute_result"
    }
   ],
   "source": [
    "def square(x:Int) : Int = x*x\n",
    "def square2 = (x:Int) => x*x\n",
    "def square4: Int => Int = x => x*x"
   ]
  },
  {
   "cell_type": "code",
   "execution_count": 2,
   "metadata": {},
   "outputs": [
    {
     "name": "stdout",
     "output_type": "stream",
     "text": [
      "400\n"
     ]
    },
    {
     "data": {
      "text/plain": [
       "defined \u001b[32mfunction\u001b[39m \u001b[36msquare3\u001b[39m"
      ]
     },
     "execution_count": 2,
     "metadata": {},
     "output_type": "execute_result"
    }
   ],
   "source": [
    "def square3(): Int => Int = (x) => x*x\n",
    "println(square3()(20))"
   ]
  },
  {
   "cell_type": "code",
   "execution_count": 3,
   "metadata": {},
   "outputs": [
    {
     "name": "stdout",
     "output_type": "stream",
     "text": [
      "5\n"
     ]
    },
    {
     "data": {
      "text/plain": [
       "defined \u001b[32mfunction\u001b[39m \u001b[36madd\u001b[39m"
      ]
     },
     "execution_count": 3,
     "metadata": {},
     "output_type": "execute_result"
    }
   ],
   "source": [
    "def add(): (Int,Int) => Int = (a,b)=> a+b\n",
    "println(add()(2,3))"
   ]
  },
  {
   "cell_type": "code",
   "execution_count": 4,
   "metadata": {},
   "outputs": [
    {
     "name": "stdout",
     "output_type": "stream",
     "text": [
      "8\n"
     ]
    },
    {
     "data": {
      "text/plain": [
       "defined \u001b[32mfunction\u001b[39m \u001b[36mcube\u001b[39m"
      ]
     },
     "execution_count": 4,
     "metadata": {},
     "output_type": "execute_result"
    }
   ],
   "source": [
    "def cube(): (Int) => Int = (x) => x*x*x\n",
    "println(cube()(2))"
   ]
  },
  {
   "cell_type": "code",
   "execution_count": 5,
   "metadata": {},
   "outputs": [
    {
     "name": "stdout",
     "output_type": "stream",
     "text": [
      "8\n",
      "8\n",
      "9\n"
     ]
    },
    {
     "data": {
      "text/plain": [
       "defined \u001b[32mfunction\u001b[39m \u001b[36mcomplexcube\u001b[39m\n",
       "defined \u001b[32mfunction\u001b[39m \u001b[36mcomplexcube2\u001b[39m\n",
       "defined \u001b[32mfunction\u001b[39m \u001b[36mcomplexadd\u001b[39m"
      ]
     },
     "execution_count": 5,
     "metadata": {},
     "output_type": "execute_result"
    }
   ],
   "source": [
    "def complexcube(): () => (Int) => Int = cube\n",
    "println(complexcube()()(2))\n",
    "\n",
    "def complexcube2: Int => Int = cube()\n",
    "println(complexcube2(2))\n",
    "\n",
    "def complexadd():() => (Int,Int) => Int = add \n",
    "println(complexadd()()(4,5))\n"
   ]
  },
  {
   "cell_type": "code",
   "execution_count": 6,
   "metadata": {},
   "outputs": [
    {
     "name": "stdout",
     "output_type": "stream",
     "text": [
      "8\n"
     ]
    },
    {
     "data": {
      "text/plain": [
       "defined \u001b[32mfunction\u001b[39m \u001b[36mcomplexcomplexcube\u001b[39m"
      ]
     },
     "execution_count": 6,
     "metadata": {},
     "output_type": "execute_result"
    }
   ],
   "source": [
    "def complexcomplexcube(): ()=> () => (Int) => Int = complexcube\n",
    "println(complexcomplexcube()()()(2))"
   ]
  },
  {
   "cell_type": "code",
   "execution_count": 7,
   "metadata": {},
   "outputs": [
    {
     "data": {
      "text/plain": [
       "defined \u001b[32mfunction\u001b[39m \u001b[36mlayer1\u001b[39m"
      ]
     },
     "execution_count": 7,
     "metadata": {},
     "output_type": "execute_result"
    }
   ],
   "source": [
    "def layer1: Int => Int = (x) => x+100\n"
   ]
  },
  {
   "cell_type": "code",
   "execution_count": 8,
   "metadata": {},
   "outputs": [
    {
     "name": "stdout",
     "output_type": "stream",
     "text": [
      "5\n",
      "1\n",
      "-1\n"
     ]
    },
    {
     "data": {
      "text/plain": [
       "defined \u001b[32mfunction\u001b[39m \u001b[36mcalculator\u001b[39m"
      ]
     },
     "execution_count": 8,
     "metadata": {},
     "output_type": "execute_result"
    }
   ],
   "source": [
    "def calculator(operation: String): (Int, Int) => Int = (a,b) => {\n",
    "    operation  match{\n",
    "        case \"add\" => a+b\n",
    "        case \"sub\" => a-b\n",
    "        case \"mul\" => a*b\n",
    "        case _ => -1\n",
    "    }\n",
    "}\n",
    "println(calculator(\"add\")(2,3))\n",
    "println(calculator(\"sub\")(3,2))\n",
    "println(calculator(\"divde\")(2,3))"
   ]
  },
  {
   "cell_type": "code",
   "execution_count": 9,
   "metadata": {},
   "outputs": [
    {
     "name": "stdout",
     "output_type": "stream",
     "text": [
      "innerscope variable 20 , outerscope variable 25\n",
      "innerscope variable 30 , outerscope variable 55\n"
     ]
    },
    {
     "data": {
      "text/plain": [
       "defined \u001b[32mfunction\u001b[39m \u001b[36mwrapper\u001b[39m"
      ]
     },
     "execution_count": 9,
     "metadata": {},
     "output_type": "execute_result"
    }
   ],
   "source": [
    "def wrapper(x: Int): Unit = {\n",
    "    var outerscope = x\n",
    "    def inerfunction(a: Int): Unit = {\n",
    "        outerscope = outerscope + a\n",
    "        println(s\"innerscope variable $a , outerscope variable $outerscope\")\n",
    "    }\n",
    "    inerfunction(20)\n",
    "    inerfunction(30)\n",
    "}\n",
    "wrapper(5)"
   ]
  },
  {
   "cell_type": "code",
   "execution_count": 10,
   "metadata": {},
   "outputs": [
    {
     "name": "stdout",
     "output_type": "stream",
     "text": [
      "innerscope variable 2 , outerscope variable 7\n",
      "innerscope variable 3 , outerscope variable 10\n"
     ]
    },
    {
     "data": {
      "text/plain": [
       "defined \u001b[32mfunction\u001b[39m \u001b[36mwrapper2\u001b[39m"
      ]
     },
     "execution_count": 10,
     "metadata": {},
     "output_type": "execute_result"
    }
   ],
   "source": [
    "def wrapper2: Int => Unit = x => {\n",
    "    var outerscope = x\n",
    "    def innerfunction2: Int => Unit = a => {\n",
    "        outerscope = outerscope + a\n",
    "        println(s\"innerscope variable $a , outerscope variable $outerscope\")\n",
    "    }\n",
    "    innerfunction2(2)\n",
    "    innerfunction2(3)\n",
    "}\n",
    "wrapper2(5)\n",
    "\n"
   ]
  },
  {
   "cell_type": "code",
   "execution_count": 11,
   "metadata": {},
   "outputs": [
    {
     "name": "stdout",
     "output_type": "stream",
     "text": [
      "innerscope variable 2 , outerscope variable 7\n",
      "innerscope variable 3 , outerscope variable 8\n",
      "innerscope variable 2 , outerscope variable 7\n",
      "innerscope variable 3 , outerscope variable 10\n"
     ]
    },
    {
     "data": {
      "text/plain": [
       "defined \u001b[32mfunction\u001b[39m \u001b[36mwrapper2\u001b[39m\n",
       "\u001b[36my\u001b[39m: \u001b[32mInt\u001b[39m => \u001b[32mUnit\u001b[39m = ammonite.$sess.cmd11$Helper$$Lambda/0x000003e00195a208@6c0af9f6"
      ]
     },
     "execution_count": 11,
     "metadata": {},
     "output_type": "execute_result"
    }
   ],
   "source": [
    "def wrapper2(x: Int): (Int) => Unit = {\n",
    "    var outerscope = x\n",
    "    def innerfunction2: Int => Unit = a => {\n",
    "        outerscope = outerscope + a\n",
    "        println(s\"innerscope variable $a , outerscope variable $outerscope\")\n",
    "    }\n",
    "    innerfunction2\n",
    "}\n",
    "wrapper2(5)(2)\n",
    "wrapper2(5)(3)   \n",
    "//output for this : innerscope variable 2 , outerscope variable 7\n",
    "// innerscope variable 3 , outerscope variable 8\n",
    "\n",
    "val y = wrapper2(5)\n",
    "y(2)\n",
    "y(3)\n",
    "// innerscope variable 2 , outerscope variable 7\n",
    "// innerscope variable 3 , outerscope variable 10"
   ]
  },
  {
   "cell_type": "code",
   "execution_count": 12,
   "metadata": {},
   "outputs": [
    {
     "name": "stdout",
     "output_type": "stream",
     "text": [
      "The String inside the second function Srinija , and the int value Sri\n"
     ]
    },
    {
     "data": {
      "text/plain": [
       "defined \u001b[32mfunction\u001b[39m \u001b[36mfunction1\u001b[39m\n",
       "defined \u001b[32mfunction\u001b[39m \u001b[36mf\u001b[39m"
      ]
     },
     "execution_count": 12,
     "metadata": {},
     "output_type": "execute_result"
    }
   ],
   "source": [
    "def function1(x: Int,f: (String => Unit)): Unit = {\n",
    "  var value = x\n",
    "  f(\"Sri\")\n",
    "}\n",
    "\n",
    "def f(s: String): Unit = {\n",
    "  function1(10,(sub)=> println(s\"The String inside the second function $s , and the int value $sub\"))\n",
    "}\n",
    "\n",
    "f(\"Srinija\")\n"
   ]
  },
  {
   "cell_type": "code",
   "execution_count": 13,
   "metadata": {},
   "outputs": [
    {
     "name": "stdout",
     "output_type": "stream",
     "text": [
      "5\n",
      "4\n",
      "1\n"
     ]
    },
    {
     "data": {
      "text/plain": [
       "defined \u001b[32mfunction\u001b[39m \u001b[36madd\u001b[39m\n",
       "defined \u001b[32mfunction\u001b[39m \u001b[36madd\u001b[39m"
      ]
     },
     "execution_count": 13,
     "metadata": {},
     "output_type": "execute_result"
    }
   ],
   "source": [
    "def add(x:Int, y:Int): Int = x+y\n",
    "def add(x:Int): Int => Int = y => x+y\n",
    "println(add(2,3))\n",
    "println(add(2)(2))\n",
    "println(add(-1)(2))\n"
   ]
  },
  {
   "cell_type": "code",
   "execution_count": 14,
   "metadata": {},
   "outputs": [
    {
     "name": "stdout",
     "output_type": "stream",
     "text": [
      "41\n"
     ]
    },
    {
     "data": {
      "text/plain": [
       "defined \u001b[32mfunction\u001b[39m \u001b[36maddbyone\u001b[39m\n",
       "defined \u001b[32mfunction\u001b[39m \u001b[36mdouble\u001b[39m\n",
       "\u001b[36mresult\u001b[39m: \u001b[32mInt\u001b[39m => \u001b[32mInt\u001b[39m = scala.Function1$$Lambda/0x000003e00196c000@364b15ba"
      ]
     },
     "execution_count": 14,
     "metadata": {},
     "output_type": "execute_result"
    }
   ],
   "source": [
    "def addbyone: Int => Int = x => x+1\n",
    "def double: Int => Int = y => y*2\n",
    "val result = double andThen addbyone \n",
    "\n",
    "println(result(20))"
   ]
  },
  {
   "cell_type": "code",
   "execution_count": 22,
   "metadata": {},
   "outputs": [
    {
     "name": "stdout",
     "output_type": "stream",
     "text": [
      "17\n"
     ]
    },
    {
     "data": {
      "text/plain": [
       "defined \u001b[32mfunction\u001b[39m \u001b[36maddbyone1\u001b[39m\n",
       "defined \u001b[32mfunction\u001b[39m \u001b[36mdouble1\u001b[39m\n",
       "\u001b[36mresult2\u001b[39m: \u001b[32mInt\u001b[39m => \u001b[32mInt\u001b[39m = scala.Function1$$Lambda/0x000003e00196c000@75eedd16"
      ]
     },
     "execution_count": 22,
     "metadata": {},
     "output_type": "execute_result"
    }
   ],
   "source": [
    "def addbyone1(x:Int): Int = x+1\n",
    "def double1(y:Int): Int = y*2\n",
    "val result2 = double1 _ andThen addbyone1\n",
    "\n",
    "\n",
    "println(result2(8))\n"
   ]
  },
  {
   "cell_type": "code",
   "execution_count": 16,
   "metadata": {},
   "outputs": [
    {
     "name": "stdout",
     "output_type": "stream",
     "text": [
      "Baked cake , and topping of Choclate cream\n",
      "Topping Added Choclate cream\n"
     ]
    },
    {
     "data": {
      "text/plain": [
       "defined \u001b[32mfunction\u001b[39m \u001b[36mtopping\u001b[39m\n",
       "defined \u001b[32mfunction\u001b[39m \u001b[36mbake\u001b[39m\n",
       "\u001b[36mcakebaek\u001b[39m: \u001b[32mString\u001b[39m => \u001b[32mString\u001b[39m = ammonite.$sess.cmd16$Helper$$Lambda/0x000003e00196a978@6b6f3c96\n",
       "\u001b[36mcakeprep\u001b[39m: \u001b[32mString\u001b[39m => \u001b[32mUnit\u001b[39m = scala.Function1$$Lambda/0x000003e00196c000@6a17b6d5"
      ]
     },
     "execution_count": 16,
     "metadata": {},
     "output_type": "execute_result"
    }
   ],
   "source": [
    "def topping(s: String) = {\n",
    "    println(s\"Topping Added $s\")\n",
    "}\n",
    "\n",
    "def bake (xtype: String, toppings:String) =  {\n",
    "    println(s\"Baked $xtype , and topping of $toppings\")\n",
    "    toppings\n",
    "}\n",
    "\n",
    "val cakebaek = bake(\"cake\",_:String)\n",
    "val cakeprep = cakebaek andThen topping\n",
    "cakeprep(\"Choclate cream\")\n",
    "\n"
   ]
  },
  {
   "cell_type": "code",
   "execution_count": 17,
   "metadata": {},
   "outputs": [
    {
     "name": "stdout",
     "output_type": "stream",
     "text": [
      "inside language Hola\n"
     ]
    },
    {
     "data": {
      "text/html": [
       "<div class=\"jp-RenderedText\">\n",
       "<pre><code>defined <span style=\"color: rgb(0, 187, 0)\"><span class=\"ansi-green-fg\">function</span></span> <span style=\"color: rgb(0, 187, 187)\"><span class=\"ansi-cyan-fg\">Langtype</span></span>\n",
       "defined <span style=\"color: rgb(0, 187, 0)\"><span class=\"ansi-green-fg\">function</span></span> <span style=\"color: rgb(0, 187, 187)\"><span class=\"ansi-cyan-fg\">greeting</span></span>\n",
       "<span style=\"color: rgb(0, 187, 187)\"><span class=\"ansi-cyan-fg\">namefix</span></span>: <span style=\"color: rgb(0, 187, 0)\"><span class=\"ansi-green-fg\">String</span></span> =&gt; <span style=\"color: rgb(0, 187, 0)\"><span class=\"ansi-green-fg\">String</span></span> = ammonite.$sess.cmd17$Helper$$Lambda/0x000003e001974800@42a4da94\n",
       "<span style=\"color: rgb(0, 187, 187)\"><span class=\"ansi-cyan-fg\">greet</span></span>: <span style=\"color: rgb(0, 187, 0)\"><span class=\"ansi-green-fg\">String</span></span> =&gt; <span style=\"color: rgb(0, 187, 0)\"><span class=\"ansi-green-fg\">Unit</span></span> = scala.Function1$$Lambda/0x000003e00196c000@5cdad5c4</code></pre>\n",
       "</div>"
      ],
      "text/plain": [
       "defined \u001b[32mfunction\u001b[39m \u001b[36mLangtype\u001b[39m\n",
       "defined \u001b[32mfunction\u001b[39m \u001b[36mgreeting\u001b[39m\n",
       "\u001b[36mnamefix\u001b[39m: \u001b[32mString\u001b[39m => \u001b[32mString\u001b[39m = ammonite.$sess.cmd17$Helper$$Lambda/0x000003e001974800@42a4da94\n",
       "\u001b[36mgreet\u001b[39m: \u001b[32mString\u001b[39m => \u001b[32mUnit\u001b[39m = scala.Function1$$Lambda/0x000003e00196c000@5cdad5c4"
      ]
     },
     "metadata": {},
     "output_type": "display_data"
    }
   ],
   "source": [
    "def Langtype(s: String) = {\n",
    "   println(s\"inside language $s\")\n",
    "}\n",
    "\n",
    "def greeting (name: String, lang: String) = {\n",
    "    lang\n",
    "}\n",
    "\n",
    "var namefix = greeting(\"Srinija\",_:String)\n",
    "val greet = namefix andThen Langtype\n",
    "greet(\"Hola\")"
   ]
  },
  {
   "cell_type": "code",
   "execution_count": 25,
   "metadata": {},
   "outputs": [
    {
     "name": "stdout",
     "output_type": "stream",
     "text": [
      "0\n"
     ]
    }
   ],
   "source": [
    "println(6 % 3)"
   ]
  }
 ],
 "metadata": {
  "kernelspec": {
   "display_name": "Scala",
   "language": "scala",
   "name": "scala"
  },
  "language_info": {
   "codemirror_mode": "text/x-scala",
   "file_extension": ".sc",
   "mimetype": "text/x-scala",
   "name": "scala",
   "nbconvert_exporter": "script",
   "version": "2.13.14"
  }
 },
 "nbformat": 4,
 "nbformat_minor": 2
}
