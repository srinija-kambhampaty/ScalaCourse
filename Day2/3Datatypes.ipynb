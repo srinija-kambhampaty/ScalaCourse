{
 "cells": [
  {
   "cell_type": "markdown",
   "metadata": {},
   "source": [
    "### DataTypes"
   ]
  },
  {
   "cell_type": "markdown",
   "metadata": {},
   "source": [
    "#### Byte - 8 bit signed value. Range from -128 to 127\n"
   ]
  },
  {
   "cell_type": "code",
   "execution_count": 5,
   "metadata": {},
   "outputs": [
    {
     "data": {
      "text/plain": [
       "\u001b[36mx\u001b[39m: \u001b[32mByte\u001b[39m = \u001b[32m2\u001b[39m\n",
       "\u001b[36my\u001b[39m: \u001b[32mByte\u001b[39m = \u001b[32m1\u001b[39m"
      ]
     },
     "execution_count": 5,
     "metadata": {},
     "output_type": "execute_result"
    }
   ],
   "source": [
    "val x: Byte = 0x02\n",
    "val y: Byte = 1"
   ]
  },
  {
   "cell_type": "markdown",
   "metadata": {},
   "source": [
    "#### Short - 16 bit signed value. Range -32768 to 32767"
   ]
  },
  {
   "cell_type": "code",
   "execution_count": 7,
   "metadata": {},
   "outputs": [
    {
     "data": {
      "text/plain": [
       "\u001b[36mx\u001b[39m: \u001b[32mShort\u001b[39m = \u001b[32m32765\u001b[39m\n",
       "\u001b[36my\u001b[39m: \u001b[32mShort\u001b[39m = \u001b[32m4\u001b[39m"
      ]
     },
     "execution_count": 7,
     "metadata": {},
     "output_type": "execute_result"
    }
   ],
   "source": [
    "val x:Short = 32765\n",
    "val y:Short = 4"
   ]
  },
  {
   "cell_type": "markdown",
   "metadata": {},
   "source": [
    "#### Int - 32 bit signed value. Range -2147483648 to 2147483647"
   ]
  },
  {
   "cell_type": "code",
   "execution_count": 8,
   "metadata": {},
   "outputs": [
    {
     "data": {
      "text/plain": [
       "\u001b[36mx\u001b[39m: \u001b[32mInt\u001b[39m = \u001b[32m34\u001b[39m\n",
       "\u001b[36my\u001b[39m: \u001b[32mInt\u001b[39m = \u001b[32m56\u001b[39m"
      ]
     },
     "execution_count": 8,
     "metadata": {},
     "output_type": "execute_result"
    }
   ],
   "source": [
    "val x:Int = 34\n",
    "val y = 56"
   ]
  },
  {
   "cell_type": "markdown",
   "metadata": {},
   "source": [
    "#### Long - 64 bit signed value. -9223372036854775808 to 9223372036854775807"
   ]
  },
  {
   "cell_type": "code",
   "execution_count": 30,
   "metadata": {},
   "outputs": [
    {
     "data": {
      "text/plain": [
       "\u001b[36mx\u001b[39m: \u001b[32mLong\u001b[39m = \u001b[32m3456L\u001b[39m\n",
       "\u001b[36mnumber\u001b[39m: \u001b[32mInt\u001b[39m = \u001b[32m2147483642\u001b[39m\n",
       "\u001b[36my\u001b[39m: \u001b[32mInt\u001b[39m = \u001b[32m67\u001b[39m\n",
       "\u001b[36mnum\u001b[39m: \u001b[32mInt\u001b[39m = \u001b[32m-2147483587\u001b[39m\n",
       "\u001b[36mnumber2\u001b[39m: \u001b[32mLong\u001b[39m = \u001b[32m2147483642L\u001b[39m\n",
       "\u001b[36my2\u001b[39m: \u001b[32mLong\u001b[39m = \u001b[32m67L\u001b[39m\n",
       "\u001b[36mnum2\u001b[39m: \u001b[32mLong\u001b[39m = \u001b[32m2147483709L\u001b[39m"
      ]
     },
     "execution_count": 30,
     "metadata": {},
     "output_type": "execute_result"
    }
   ],
   "source": [
    "val x:Long = 3456\n",
    "val number = 2147483642\n",
    "val y = 67\n",
    "val num = number + y\n",
    "\n",
    "val number2:Long = 2147483642\n",
    "val y2:Long = 67\n",
    "val num2 = number2 + y2   //doubt \n"
   ]
  },
  {
   "cell_type": "markdown",
   "metadata": {},
   "source": [
    "#### Float - 32 bit IEEE 754 single-precision float"
   ]
  },
  {
   "cell_type": "code",
   "execution_count": 31,
   "metadata": {},
   "outputs": [
    {
     "data": {
      "text/plain": [
       "\u001b[36mx\u001b[39m: \u001b[32mFloat\u001b[39m = \u001b[32m2.2F\u001b[39m\n",
       "\u001b[36my\u001b[39m: \u001b[32mFloat\u001b[39m = \u001b[32m-2.2F\u001b[39m"
      ]
     },
     "execution_count": 31,
     "metadata": {},
     "output_type": "execute_result"
    }
   ],
   "source": [
    "val x:Float = 2.2f\n",
    "val y:Float = -2.2f\n"
   ]
  },
  {
   "cell_type": "markdown",
   "metadata": {},
   "source": [
    "#### Double - 64 bit IEEE 754 double-precision float"
   ]
  },
  {
   "cell_type": "code",
   "execution_count": 33,
   "metadata": {},
   "outputs": [
    {
     "data": {
      "text/plain": [
       "\u001b[36mx\u001b[39m: \u001b[32mDouble\u001b[39m = \u001b[32m3.45\u001b[39m\n",
       "\u001b[36my\u001b[39m: \u001b[32mDouble\u001b[39m = \u001b[32m6.78\u001b[39m"
      ]
     },
     "execution_count": 33,
     "metadata": {},
     "output_type": "execute_result"
    }
   ],
   "source": [
    "val x:Double = 3.45\n",
    "val y = 6.78"
   ]
  },
  {
   "cell_type": "markdown",
   "metadata": {},
   "source": [
    "#### Char - 16 bit unsigned Unicode character. Range from U+0000 to U+FFFF"
   ]
  },
  {
   "cell_type": "code",
   "execution_count": 34,
   "metadata": {},
   "outputs": [
    {
     "data": {
      "text/plain": [
       "\u001b[36mx\u001b[39m: \u001b[32mChar\u001b[39m = \u001b[32m'a'\u001b[39m\n",
       "\u001b[36my\u001b[39m: \u001b[32mChar\u001b[39m = \u001b[32m't'\u001b[39m"
      ]
     },
     "execution_count": 34,
     "metadata": {},
     "output_type": "execute_result"
    }
   ],
   "source": [
    "val x = 'a'\n",
    "val y:Char = 't'"
   ]
  },
  {
   "cell_type": "markdown",
   "metadata": {},
   "source": [
    "#### String- A sequence of Chars"
   ]
  },
  {
   "cell_type": "code",
   "execution_count": 36,
   "metadata": {},
   "outputs": [
    {
     "data": {
      "text/plain": [
       "\u001b[36mx\u001b[39m: \u001b[32mString\u001b[39m = \u001b[32m\"a\"\u001b[39m\n",
       "\u001b[36my\u001b[39m: \u001b[32mString\u001b[39m = \u001b[32m\"hello\"\u001b[39m"
      ]
     },
     "execution_count": 36,
     "metadata": {},
     "output_type": "execute_result"
    }
   ],
   "source": [
    "val x:String = \"a\"\n",
    "val y = \"hello\""
   ]
  },
  {
   "cell_type": "markdown",
   "metadata": {},
   "source": [
    "#### Boolean - Either the literal true or the literal fals"
   ]
  },
  {
   "cell_type": "code",
   "execution_count": 37,
   "metadata": {},
   "outputs": [
    {
     "data": {
      "text/plain": [
       "\u001b[36mx\u001b[39m: \u001b[32mBoolean\u001b[39m = \u001b[32mtrue\u001b[39m\n",
       "\u001b[36my\u001b[39m: \u001b[32mBoolean\u001b[39m = \u001b[32mfalse\u001b[39m"
      ]
     },
     "execution_count": 37,
     "metadata": {},
     "output_type": "execute_result"
    }
   ],
   "source": [
    "val x:Boolean = true\n",
    "val y = false"
   ]
  },
  {
   "cell_type": "markdown",
   "metadata": {},
   "source": [
    "#### Unit- Corresponds to no value"
   ]
  },
  {
   "cell_type": "code",
   "execution_count": 40,
   "metadata": {},
   "outputs": [
    {
     "name": "stdout",
     "output_type": "stream",
     "text": [
      "Hello World\n",
      "Result: ()\n"
     ]
    }
   ],
   "source": [
    "val result:Unit = {\n",
    "    println(\"Hello World\")\n",
    "}\n",
    "println(s\"Result: $result\")"
   ]
  },
  {
   "cell_type": "markdown",
   "metadata": {},
   "source": [
    "#### Null- null or empty reference"
   ]
  },
  {
   "cell_type": "code",
   "execution_count": 43,
   "metadata": {},
   "outputs": [
    {
     "data": {
      "text/plain": [
       "\u001b[36mx\u001b[39m: \u001b[32mString\u001b[39m = \u001b[32mnull\u001b[39m\n",
       "\u001b[36my\u001b[39m: \u001b[32mNull\u001b[39m = \u001b[32mnull\u001b[39m\n",
       "\u001b[36mz\u001b[39m: \u001b[32mNull\u001b[39m = \u001b[32mnull\u001b[39m"
      ]
     },
     "execution_count": 43,
     "metadata": {},
     "output_type": "execute_result"
    }
   ],
   "source": [
    "val x:String = null\n",
    "val y:Null = null\n",
    "val z = null"
   ]
  },
  {
   "cell_type": "markdown",
   "metadata": {},
   "source": [
    "#### Nothing - The subtype of every other type; includes no values"
   ]
  },
  {
   "cell_type": "code",
   "execution_count": 50,
   "metadata": {},
   "outputs": [
    {
     "data": {
      "text/plain": [
       "defined \u001b[32mfunction\u001b[39m \u001b[36mfail\u001b[39m"
      ]
     },
     "execution_count": 50,
     "metadata": {},
     "output_type": "execute_result"
    }
   ],
   "source": [
    "def fail(message: String): Nothing = {\n",
    "  throw new RuntimeException(message)\n",
    "}\n",
    "\n",
    "// Uncommenting the following line will cause a runtime exception\n",
    "// fail(\"This is an error!\") // This will throw an exception\n"
   ]
  },
  {
   "cell_type": "markdown",
   "metadata": {},
   "source": [
    "#### Any - The supertype of any type; any object is of type Any"
   ]
  },
  {
   "cell_type": "code",
   "execution_count": 45,
   "metadata": {},
   "outputs": [
    {
     "data": {
      "text/plain": [
       "\u001b[36ma\u001b[39m: \u001b[32mAny\u001b[39m = \u001b[32m23\u001b[39m\n",
       "\u001b[36mx\u001b[39m: \u001b[32mAny\u001b[39m = \u001b[32m\"hello\"\u001b[39m"
      ]
     },
     "execution_count": 45,
     "metadata": {},
     "output_type": "execute_result"
    }
   ],
   "source": [
    "val a: Any = 23\n",
    "val x: Any = \"hello\""
   ]
  },
  {
   "cell_type": "markdown",
   "metadata": {},
   "source": [
    "#### AnyRef - The supertype of any reference type"
   ]
  },
  {
   "cell_type": "code",
   "execution_count": 47,
   "metadata": {},
   "outputs": [
    {
     "data": {
      "text/plain": [
       "\u001b[36mx\u001b[39m: \u001b[32mAnyRef\u001b[39m = \u001b[32m\"A reference type\"\u001b[39m"
      ]
     },
     "execution_count": 47,
     "metadata": {},
     "output_type": "execute_result"
    }
   ],
   "source": [
    "val x: AnyRef = new String(\"A reference type\") \n"
   ]
  }
 ],
 "metadata": {
  "kernelspec": {
   "display_name": "Scala",
   "language": "scala",
   "name": "scala"
  },
  "language_info": {
   "codemirror_mode": "text/x-scala",
   "file_extension": ".sc",
   "mimetype": "text/x-scala",
   "name": "scala",
   "nbconvert_exporter": "script",
   "version": "2.13.14"
  }
 },
 "nbformat": 4,
 "nbformat_minor": 2
}
