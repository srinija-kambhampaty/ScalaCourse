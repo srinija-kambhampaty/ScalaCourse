{
 "cells": [
  {
   "cell_type": "markdown",
   "metadata": {},
   "source": [
    "#### Immutable Lists"
   ]
  },
  {
   "cell_type": "code",
   "execution_count": 1,
   "metadata": {},
   "outputs": [
    {
     "name": "stdout",
     "output_type": "stream",
     "text": [
      "Apple\n",
      "Apple\n",
      "Banana\n",
      "Cherry\n",
      "List(Orange, Apple, Banana, Cherry)\n"
     ]
    },
    {
     "data": {
      "text/plain": [
       "\u001b[36mfruits\u001b[39m: \u001b[32mList\u001b[39m[\u001b[32mString\u001b[39m] = \u001b[33mList\u001b[39m(\u001b[32m\"Apple\"\u001b[39m, \u001b[32m\"Banana\"\u001b[39m, \u001b[32m\"Cherry\"\u001b[39m)\n",
       "\u001b[36mnewFruits\u001b[39m: \u001b[32mList\u001b[39m[\u001b[32mString\u001b[39m] = \u001b[33mList\u001b[39m(\u001b[32m\"Orange\"\u001b[39m, \u001b[32m\"Apple\"\u001b[39m, \u001b[32m\"Banana\"\u001b[39m, \u001b[32m\"Cherry\"\u001b[39m)"
      ]
     },
     "execution_count": 1,
     "metadata": {},
     "output_type": "execute_result"
    }
   ],
   "source": [
    "val fruits = List(\"Apple\", \"Banana\", \"Cherry\")\n",
    "\n",
    "println(fruits(0))\n",
    "\n",
    "fruits.foreach(fruit => println(fruit))\n",
    "\n",
    "val newFruits = \"Orange\" :: fruits\n",
    "println(newFruits)\n"
   ]
  },
  {
   "cell_type": "markdown",
   "metadata": {},
   "source": [
    "#### Mutable Lits"
   ]
  },
  {
   "cell_type": "code",
   "execution_count": 6,
   "metadata": {},
   "outputs": [
    {
     "name": "stdout",
     "output_type": "stream",
     "text": [
      "ListBuffer(1, 2, 3, 4, 5)\n",
      "ListBuffer(1, 3, 4, 5)\n"
     ]
    },
    {
     "data": {
      "text/plain": [
       "\u001b[32mimport \u001b[39m\u001b[36mscala.collection.mutable.ListBuffer\u001b[39m\n",
       "\u001b[36mnumbers\u001b[39m: \u001b[32mListBuffer\u001b[39m[\u001b[32mInt\u001b[39m] = \u001b[33mListBuffer\u001b[39m(\u001b[32m1\u001b[39m, \u001b[32m3\u001b[39m, \u001b[32m4\u001b[39m, \u001b[32m5\u001b[39m)\n",
       "\u001b[36mres6_2\u001b[39m: \u001b[32mListBuffer\u001b[39m[\u001b[32mInt\u001b[39m] = \u001b[33mListBuffer\u001b[39m(\u001b[32m1\u001b[39m, \u001b[32m3\u001b[39m, \u001b[32m4\u001b[39m, \u001b[32m5\u001b[39m)\n",
       "\u001b[36mres6_3\u001b[39m: \u001b[32mListBuffer\u001b[39m[\u001b[32mInt\u001b[39m] = \u001b[33mListBuffer\u001b[39m(\u001b[32m1\u001b[39m, \u001b[32m3\u001b[39m, \u001b[32m4\u001b[39m, \u001b[32m5\u001b[39m)\n",
       "\u001b[36mres6_5\u001b[39m: \u001b[32mListBuffer\u001b[39m[\u001b[32mInt\u001b[39m] = \u001b[33mListBuffer\u001b[39m(\u001b[32m1\u001b[39m, \u001b[32m3\u001b[39m, \u001b[32m4\u001b[39m, \u001b[32m5\u001b[39m)"
      ]
     },
     "execution_count": 6,
     "metadata": {},
     "output_type": "execute_result"
    }
   ],
   "source": [
    "import scala.collection.mutable.ListBuffer\n",
    "\n",
    "// Creating a mutable list\n",
    "val numbers = ListBuffer(1, 2, 3)\n",
    "\n",
    "// Adding elements\n",
    "numbers += 4\n",
    "numbers += (5)\n",
    "println(numbers) \n",
    "\n",
    "// Removing an element\n",
    "numbers -= 2\n",
    "println(numbers)\n"
   ]
  },
  {
   "cell_type": "markdown",
   "metadata": {},
   "source": [
    "#### Immutable Sets"
   ]
  },
  {
   "cell_type": "code",
   "execution_count": 7,
   "metadata": {},
   "outputs": [
    {
     "name": "stdout",
     "output_type": "stream",
     "text": [
      "Set(Apple, Banana, Cherry)\n",
      "true\n"
     ]
    },
    {
     "data": {
      "text/plain": [
       "\u001b[36mfruitsSet\u001b[39m: \u001b[32mSet\u001b[39m[\u001b[32mString\u001b[39m] = \u001b[33mSet\u001b[39m(\u001b[32m\"Apple\"\u001b[39m, \u001b[32m\"Banana\"\u001b[39m, \u001b[32m\"Cherry\"\u001b[39m)"
      ]
     },
     "execution_count": 7,
     "metadata": {},
     "output_type": "execute_result"
    }
   ],
   "source": [
    "val fruitsSet = Set(\"Apple\", \"Banana\", \"Cherry\", \"Apple\") \n",
    "println(fruitsSet)\n",
    "println(fruitsSet.contains(\"Banana\"))\n"
   ]
  },
  {
   "cell_type": "markdown",
   "metadata": {},
   "source": [
    "#### Mutable Sets"
   ]
  },
  {
   "cell_type": "code",
   "execution_count": 8,
   "metadata": {},
   "outputs": [
    {
     "name": "stdout",
     "output_type": "stream",
     "text": [
      "HashSet(1, 2, 3, 4)\n",
      "HashSet(1, 3, 4)\n"
     ]
    },
    {
     "data": {
      "text/plain": [
       "\u001b[32mimport \u001b[39m\u001b[36mscala.collection.mutable.Set\u001b[39m\n",
       "\u001b[36mmutableSet\u001b[39m: \u001b[32mSet\u001b[39m[\u001b[32mInt\u001b[39m] = \u001b[33mHashSet\u001b[39m(\u001b[32m1\u001b[39m, \u001b[32m3\u001b[39m, \u001b[32m4\u001b[39m)\n",
       "\u001b[36mres8_2\u001b[39m: \u001b[32mSet\u001b[39m[\u001b[32mInt\u001b[39m] = \u001b[33mHashSet\u001b[39m(\u001b[32m1\u001b[39m, \u001b[32m3\u001b[39m, \u001b[32m4\u001b[39m)\n",
       "\u001b[36mres8_4\u001b[39m: \u001b[32mSet\u001b[39m[\u001b[32mInt\u001b[39m] = \u001b[33mHashSet\u001b[39m(\u001b[32m1\u001b[39m, \u001b[32m3\u001b[39m, \u001b[32m4\u001b[39m)"
      ]
     },
     "execution_count": 8,
     "metadata": {},
     "output_type": "execute_result"
    }
   ],
   "source": [
    "import scala.collection.mutable.Set\n",
    "\n",
    "val mutableSet = Set(1, 2, 3)\n",
    "\n",
    "// Adding elements\n",
    "mutableSet += 4\n",
    "println(mutableSet)\n",
    "\n",
    "// Removing elements\n",
    "mutableSet -= 2\n",
    "println(mutableSet) \n"
   ]
  },
  {
   "cell_type": "markdown",
   "metadata": {},
   "source": [
    "#### Immutable Maps"
   ]
  },
  {
   "cell_type": "code",
   "execution_count": 9,
   "metadata": {},
   "outputs": [
    {
     "name": "stdout",
     "output_type": "stream",
     "text": [
      "Paris\n",
      "The capital of USA is Washington, D.C.\n",
      "The capital of France is Paris\n",
      "The capital of Japan is Tokyo\n"
     ]
    },
    {
     "data": {
      "text/plain": [
       "\u001b[36mcapitalCities\u001b[39m: \u001b[32mMap\u001b[39m[\u001b[32mString\u001b[39m, \u001b[32mString\u001b[39m] = \u001b[33mMap\u001b[39m(\n",
       "  \u001b[32m\"USA\"\u001b[39m -> \u001b[32m\"Washington, D.C.\"\u001b[39m,\n",
       "  \u001b[32m\"France\"\u001b[39m -> \u001b[32m\"Paris\"\u001b[39m,\n",
       "  \u001b[32m\"Japan\"\u001b[39m -> \u001b[32m\"Tokyo\"\u001b[39m\n",
       ")"
      ]
     },
     "execution_count": 9,
     "metadata": {},
     "output_type": "execute_result"
    }
   ],
   "source": [
    "val capitalCities = Map(\"USA\" -> \"Washington, D.C.\", \"France\" -> \"Paris\", \"Japan\" -> \"Tokyo\")\n",
    "\n",
    "// Accessing values\n",
    "println(capitalCities(\"France\")) \n",
    "\n",
    "// Iterating through a map\n",
    "capitalCities.foreach { case (country, city) =>\n",
    "  println(s\"The capital of $country is $city\")\n",
    "}\n"
   ]
  },
  {
   "cell_type": "markdown",
   "metadata": {},
   "source": [
    "#### Mutable Maps"
   ]
  },
  {
   "cell_type": "code",
   "execution_count": 10,
   "metadata": {},
   "outputs": [
    {
     "name": "stdout",
     "output_type": "stream",
     "text": [
      "HashMap(Bob -> 30, Alice -> 25, Charlie -> 35)\n",
      "HashMap(Bob -> 30, Alice -> 26, Charlie -> 35)\n"
     ]
    },
    {
     "data": {
      "text/plain": [
       "\u001b[32mimport \u001b[39m\u001b[36mscala.collection.mutable.Map\u001b[39m\n",
       "\u001b[36mmutableMap\u001b[39m: \u001b[32mMap\u001b[39m[\u001b[32mString\u001b[39m, \u001b[32mInt\u001b[39m] = \u001b[33mHashMap\u001b[39m(\n",
       "  \u001b[32m\"Bob\"\u001b[39m -> \u001b[32m30\u001b[39m,\n",
       "  \u001b[32m\"Alice\"\u001b[39m -> \u001b[32m26\u001b[39m,\n",
       "  \u001b[32m\"Charlie\"\u001b[39m -> \u001b[32m35\u001b[39m\n",
       ")"
      ]
     },
     "execution_count": 10,
     "metadata": {},
     "output_type": "execute_result"
    }
   ],
   "source": [
    "import scala.collection.mutable.Map\n",
    "\n",
    "val mutableMap = Map(\"Alice\" -> 25, \"Bob\" -> 30)\n",
    "\n",
    "// Adding elements\n",
    "mutableMap(\"Charlie\") = 35\n",
    "println(mutableMap)\n",
    "\n",
    "// Updating values\n",
    "mutableMap(\"Alice\") = 26\n",
    "println(mutableMap)\n"
   ]
  },
  {
   "cell_type": "markdown",
   "metadata": {},
   "source": [
    "#### Tuples"
   ]
  },
  {
   "cell_type": "code",
   "execution_count": 11,
   "metadata": {},
   "outputs": [
    {
     "name": "stdout",
     "output_type": "stream",
     "text": [
      "Alice\n",
      "30\n",
      "Engineer\n",
      "Alice is 30 years old and works as a Engineer.\n"
     ]
    },
    {
     "data": {
      "text/plain": [
       "\u001b[36mperson\u001b[39m: (\u001b[32mString\u001b[39m, \u001b[32mInt\u001b[39m, \u001b[32mString\u001b[39m) = (\u001b[32m\"Alice\"\u001b[39m, \u001b[32m30\u001b[39m, \u001b[32m\"Engineer\"\u001b[39m)\n",
       "\u001b[36mname\u001b[39m: \u001b[32mString\u001b[39m = \u001b[32m\"Alice\"\u001b[39m\n",
       "\u001b[36mage\u001b[39m: \u001b[32mInt\u001b[39m = \u001b[32m30\u001b[39m\n",
       "\u001b[36mprofession\u001b[39m: \u001b[32mString\u001b[39m = \u001b[32m\"Engineer\"\u001b[39m"
      ]
     },
     "execution_count": 11,
     "metadata": {},
     "output_type": "execute_result"
    }
   ],
   "source": [
    "val person = (\"Alice\", 30, \"Engineer\")\n",
    "\n",
    "// Accessing elements\n",
    "println(person._1) \n",
    "println(person._2) \n",
    "println(person._3) \n",
    "\n",
    "// Destructuring a tuple\n",
    "val (name, age, profession) = person\n",
    "println(s\"$name is $age years old and works as a $profession.\") \n"
   ]
  }
 ],
 "metadata": {
  "kernelspec": {
   "display_name": "Scala",
   "language": "scala",
   "name": "scala"
  },
  "language_info": {
   "codemirror_mode": "text/x-scala",
   "file_extension": ".sc",
   "mimetype": "text/x-scala",
   "name": "scala",
   "nbconvert_exporter": "script",
   "version": "2.13.14"
  }
 },
 "nbformat": 4,
 "nbformat_minor": 2
}
