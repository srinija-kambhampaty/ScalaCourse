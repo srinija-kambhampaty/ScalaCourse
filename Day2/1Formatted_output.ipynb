{
 "cells": [
  {
   "cell_type": "markdown",
   "metadata": {},
   "source": [
    "## Formatted Outputs"
   ]
  },
  {
   "cell_type": "markdown",
   "metadata": {},
   "source": [
    "##### Basic Formatting for a String '%s' is used or the interpolator 's' is used"
   ]
  },
  {
   "cell_type": "code",
   "execution_count": 42,
   "metadata": {},
   "outputs": [
    {
     "name": "stdout",
     "output_type": "stream",
     "text": [
      "Name using Interpolator : Srinija\n",
      "Name using printf: Srinija\n",
      "Name using format : Srinija"
     ]
    },
    {
     "data": {
      "text/plain": [
       "\u001b[36ms\u001b[39m: \u001b[32mString\u001b[39m = \u001b[32m\"Srinija\"\u001b[39m\n",
       "\u001b[36mformatted_s\u001b[39m: \u001b[32mString\u001b[39m = \u001b[32m\"Name using format : Srinija\"\u001b[39m"
      ]
     },
     "execution_count": 42,
     "metadata": {},
     "output_type": "execute_result"
    }
   ],
   "source": [
    "val s:String = \"Srinija\"\n",
    "val formatted_s =  String.format(\"Name using format : %s\",s)\n",
    "print(s\"Name using Interpolator : $s\\n\") //Using interpolator\n",
    "printf(\"Name using printf: %s\\n\",s) //Using printf\n",
    "print(formatted_s) //Using format "
   ]
  },
  {
   "cell_type": "markdown",
   "metadata": {},
   "source": [
    "##### Basic Formatting for a Integer '%d' is used or the interpolator 'f' is used"
   ]
  },
  {
   "cell_type": "code",
   "execution_count": 43,
   "metadata": {},
   "outputs": [
    {
     "name": "stdout",
     "output_type": "stream",
     "text": [
      "Integer using Interpolator: 3\n",
      "Interger using printf: 3\n",
      "Integer with leading zeros: 03\n"
     ]
    },
    {
     "data": {
      "text/plain": [
       "\u001b[36mi\u001b[39m: \u001b[32mInt\u001b[39m = \u001b[32m3\u001b[39m"
      ]
     },
     "execution_count": 43,
     "metadata": {},
     "output_type": "execute_result"
    }
   ],
   "source": [
    "val i:Int = 3\n",
    "print(f\"Integer using Interpolator: $i%d\\n\")  //Using interpolator\n",
    "printf(\"Interger using printf: %d\\n\",i) //Using printf\n",
    "printf(\"Integer with leading zeros: %02d\\n\", i) //For trailing zeroes"
   ]
  },
  {
   "cell_type": "markdown",
   "metadata": {},
   "source": [
    "#### Formatting for large integer"
   ]
  },
  {
   "cell_type": "code",
   "execution_count": 44,
   "metadata": {},
   "outputs": [
    {
     "name": "stdout",
     "output_type": "stream",
     "text": [
      "Formatted large number with commas: 1,234,567\n",
      "Large number with commas: 1,234,567\n"
     ]
    },
    {
     "data": {
      "text/plain": [
       "\u001b[36mlarge_int\u001b[39m: \u001b[32mInt\u001b[39m = \u001b[32m1234567\u001b[39m"
      ]
     },
     "execution_count": 44,
     "metadata": {},
     "output_type": "execute_result"
    }
   ],
   "source": [
    "val large_int = 1234567\n",
    "print(f\"Formatted large number with commas: ${large_int}%,d\\n\") \n",
    "printf(\"Large number with commas: %,d\\n\", large_int)"
   ]
  },
  {
   "cell_type": "markdown",
   "metadata": {},
   "source": [
    "#### Formatting for Double Variable "
   ]
  },
  {
   "cell_type": "code",
   "execution_count": 45,
   "metadata": {},
   "outputs": [
    {
     "name": "stdout",
     "output_type": "stream",
     "text": [
      "Formatted number: 123.46\n",
      "Formatted number: 123.46\n",
      "Double as Scientific notation: 1.23e+02\n",
      "Double as Scientific notation: 1.23e+02\n",
      "With leading zeros: 00123.46\n",
      "Double using format function: 123.46\n"
     ]
    },
    {
     "data": {
      "text/plain": [
       "\u001b[36mnumber\u001b[39m: \u001b[32mDouble\u001b[39m = \u001b[32m123.456\u001b[39m\n",
       "\u001b[36mformattedString1\u001b[39m: \u001b[32mString\u001b[39m = \u001b[32m\"Double using format function: 123.46\"\u001b[39m"
      ]
     },
     "execution_count": 45,
     "metadata": {},
     "output_type": "execute_result"
    }
   ],
   "source": [
    "val number :  Double = 123.456\n",
    "print(f\"Formatted number: $number%.2f\\n\") \n",
    "printf(\"Formatted number: %.2f\\n\", number)\n",
    "printf(\"Double as Scientific notation: %.2e\\n\", number)\n",
    "print(f\"Double as Scientific notation: $number%.2e\\n\") \n",
    "println(f\"With leading zeros: $number%08.2f\")\n",
    "val formattedString1 = String.format(\"Double using format function: %.2f\", number)\n",
    "println(formattedString1)  // Outputs: Formatted number: 1234.57"
   ]
  },
  {
   "cell_type": "markdown",
   "metadata": {},
   "source": [
    "#### Formatting for Bool"
   ]
  },
  {
   "cell_type": "code",
   "execution_count": null,
   "metadata": {},
   "outputs": [],
   "source": []
  }
 ],
 "metadata": {
  "kernelspec": {
   "display_name": "Scala",
   "language": "scala",
   "name": "scala"
  },
  "language_info": {
   "codemirror_mode": "text/x-scala",
   "file_extension": ".sc",
   "mimetype": "text/x-scala",
   "name": "scala",
   "nbconvert_exporter": "script",
   "version": "2.13.14"
  }
 },
 "nbformat": 4,
 "nbformat_minor": 2
}
