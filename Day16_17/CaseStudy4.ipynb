{
 "cells": [
  {
   "cell_type": "code",
   "execution_count": 1,
   "id": "67f51823",
   "metadata": {},
   "outputs": [],
   "source": [
    "import org.apache.spark.sql.functions._\n",
    "import org.apache.spark.sql.types._"
   ]
  },
  {
   "cell_type": "code",
   "execution_count": 2,
   "id": "3eb8b169",
   "metadata": {},
   "outputs": [
    {
     "data": {
      "text/plain": [
       "spark = org.apache.spark.sql.SparkSession@68cd7b09\n"
      ]
     },
     "metadata": {},
     "output_type": "display_data"
    },
    {
     "data": {
      "text/plain": [
       "org.apache.spark.sql.SparkSession@68cd7b09"
      ]
     },
     "execution_count": 2,
     "metadata": {},
     "output_type": "execute_result"
    }
   ],
   "source": [
    "val spark = SparkSession.builder()\n",
    "      .appName(\"CaseStudy4 - Duplicate Record Removal Pipeline\")\n",
    "      .getOrCreate()"
   ]
  },
  {
   "cell_type": "code",
   "execution_count": 3,
   "id": "8fc62202",
   "metadata": {},
   "outputs": [
    {
     "data": {
      "text/plain": [
       "moviesDataPath = gs://spark-tasks-bucket/day_16_17/movie.csv\n",
       "moviesDF = [movieId: int, title: string ... 1 more field]\n"
      ]
     },
     "metadata": {},
     "output_type": "display_data"
    },
    {
     "data": {
      "text/plain": [
       "[movieId: int, title: string ... 1 more field]"
      ]
     },
     "execution_count": 3,
     "metadata": {},
     "output_type": "execute_result"
    }
   ],
   "source": [
    "val moviesDataPath = \"gs://spark-tasks-bucket/day_16_17/movie.csv\"\n",
    "val moviesDF = spark.read.option(\"header\", \"true\").option(\"inferSchema\", \"true\").csv(moviesDataPath)"
   ]
  },
  {
   "cell_type": "code",
   "execution_count": 4,
   "id": "932cbf47",
   "metadata": {
    "scrolled": true
   },
   "outputs": [
    {
     "name": "stdout",
     "output_type": "stream",
     "text": [
      "+-------+--------------------+--------------------+\n",
      "|movieId|               title|              genres|\n",
      "+-------+--------------------+--------------------+\n",
      "|      1|    Toy Story (1995)|Adventure|Animati...|\n",
      "|      2|      Jumanji (1995)|Adventure|Childre...|\n",
      "|      3|Grumpier Old Men ...|      Comedy|Romance|\n",
      "|      4|Waiting to Exhale...|Comedy|Drama|Romance|\n",
      "|      5|Father of the Bri...|              Comedy|\n",
      "|      6|         Heat (1995)|Action|Crime|Thri...|\n",
      "|      7|      Sabrina (1995)|      Comedy|Romance|\n",
      "|      8| Tom and Huck (1995)|  Adventure|Children|\n",
      "|      9| Sudden Death (1995)|              Action|\n",
      "|     10|    GoldenEye (1995)|Action|Adventure|...|\n",
      "|     11|American Presiden...|Comedy|Drama|Romance|\n",
      "|     12|Dracula: Dead and...|       Comedy|Horror|\n",
      "|     13|        Balto (1995)|Adventure|Animati...|\n",
      "|     14|        Nixon (1995)|               Drama|\n",
      "|     15|Cutthroat Island ...|Action|Adventure|...|\n",
      "|     16|       Casino (1995)|         Crime|Drama|\n",
      "|     17|Sense and Sensibi...|       Drama|Romance|\n",
      "|     18|   Four Rooms (1995)|              Comedy|\n",
      "|     19|Ace Ventura: When...|              Comedy|\n",
      "|     20|  Money Train (1995)|Action|Comedy|Cri...|\n",
      "+-------+--------------------+--------------------+\n",
      "only showing top 20 rows\n",
      "\n"
     ]
    }
   ],
   "source": [
    "moviesDF.show()"
   ]
  },
  {
   "cell_type": "code",
   "execution_count": 5,
   "id": "dc520890",
   "metadata": {},
   "outputs": [
    {
     "data": {
      "text/plain": [
       "27278"
      ]
     },
     "execution_count": 5,
     "metadata": {},
     "output_type": "execute_result"
    },
    {
     "data": {
      "text/plain": [
       "count = 27278\n"
      ]
     },
     "metadata": {},
     "output_type": "display_data"
    }
   ],
   "source": [
    "val count = moviesDF.count()"
   ]
  },
  {
   "cell_type": "code",
   "execution_count": 6,
   "id": "06c73d2d",
   "metadata": {},
   "outputs": [
    {
     "data": {
      "text/plain": [
       "clearedRDD = 27278\n"
      ]
     },
     "metadata": {},
     "output_type": "display_data"
    },
    {
     "data": {
      "text/plain": [
       "27278"
      ]
     },
     "execution_count": 6,
     "metadata": {},
     "output_type": "execute_result"
    }
   ],
   "source": [
    "val clearedRDD = moviesDF.dropDuplicates(\"movieId\", \"title\").count()"
   ]
  },
  {
   "cell_type": "code",
   "execution_count": 7,
   "id": "b53ed595",
   "metadata": {},
   "outputs": [
    {
     "ename": "Syntax Error.",
     "evalue": "",
     "output_type": "error",
     "traceback": []
    }
   ],
   "source": ""
  },
  {
   "cell_type": "code",
   "execution_count": 8,
   "id": "7876c1ce",
   "metadata": {},
   "outputs": [
    {
     "data": {
      "text/plain": [
       "moviesIn1971 = [movieId: int, title: string ... 1 more field]\n",
       "moviesIn1971Count = 205\n"
      ]
     },
     "metadata": {},
     "output_type": "display_data"
    },
    {
     "data": {
      "text/plain": [
       "205"
      ]
     },
     "execution_count": 8,
     "metadata": {},
     "output_type": "execute_result"
    }
   ],
   "source": [
    "val moviesIn1971 = moviesDF.filter(col(\"title\").contains(\"(1971)\"))\n",
    "val moviesIn1971Count = moviesIn1971.count()"
   ]
  },
  {
   "cell_type": "code",
   "execution_count": 9,
   "id": "cb64c10a",
   "metadata": {
    "scrolled": true
   },
   "outputs": [
    {
     "data": {
      "text/plain": [
       "unionDF = [movieId: int, title: string ... 1 more field]\n",
       "unionDFCount = 27483\n"
      ]
     },
     "metadata": {},
     "output_type": "display_data"
    },
    {
     "data": {
      "text/plain": [
       "27483"
      ]
     },
     "execution_count": 9,
     "metadata": {},
     "output_type": "execute_result"
    }
   ],
   "source": [
    "val unionDF = moviesDF.union(moviesIn1971)\n",
    "val unionDFCount = unionDF.count()"
   ]
  },
  {
   "cell_type": "code",
   "execution_count": 10,
   "id": "9881cdb4",
   "metadata": {},
   "outputs": [
    {
     "data": {
      "text/plain": [
       "hdfsPath = hdfs:///user/day_16_17/duplicate_movies\n"
      ]
     },
     "metadata": {},
     "output_type": "display_data"
    },
    {
     "data": {
      "text/plain": [
       "hdfs:///user/day_16_17/duplicate_movies"
      ]
     },
     "execution_count": 10,
     "metadata": {},
     "output_type": "execute_result"
    }
   ],
   "source": [
    "// Now save this file to hdfs\n",
    "val hdfsPath = \"hdfs:///user/day_16_17/duplicate_movies\""
   ]
  },
  {
   "cell_type": "code",
   "execution_count": 11,
   "id": "0b41b0ef",
   "metadata": {},
   "outputs": [],
   "source": [
    "unionDF.write.mode(\"overwrite\").csv(hdfsPath)"
   ]
  },
  {
   "cell_type": "code",
   "execution_count": null,
   "id": "671ddb72",
   "metadata": {},
   "outputs": [],
   "source": []
  },
  {
   "cell_type": "code",
   "execution_count": 12,
   "id": "a41605b3",
   "metadata": {},
   "outputs": [
    {
     "data": {
      "text/plain": [
       "moviesSchema = StructType(StructField(movieId,IntegerType,true),StructField(title,StringType,true),StructField(genres,StringType,true))\n",
       "moviesUpdatedDF = [movieId: int, title: string ... 1 more field]\n"
      ]
     },
     "metadata": {},
     "output_type": "display_data"
    },
    {
     "data": {
      "text/plain": [
       "[movieId: int, title: string ... 1 more field]"
      ]
     },
     "execution_count": 12,
     "metadata": {},
     "output_type": "execute_result"
    }
   ],
   "source": [
    "val moviesSchema = StructType(Array(\n",
    "  StructField(\"movieId\", IntegerType, nullable = true),\n",
    "  StructField(\"title\", StringType, nullable = true),\n",
    "  StructField(\"genres\", StringType, nullable = true)\n",
    "))\n",
    "\n",
    "val moviesUpdatedDF = spark.read.schema(moviesSchema).option(\"header\", \"false\").csv(hdfsPath)"
   ]
  },
  {
   "cell_type": "code",
   "execution_count": 13,
   "id": "fd60d994",
   "metadata": {},
   "outputs": [
    {
     "data": {
      "text/plain": [
       "27483"
      ]
     },
     "execution_count": 13,
     "metadata": {},
     "output_type": "execute_result"
    }
   ],
   "source": [
    "moviesUpdatedDF.count()"
   ]
  },
  {
   "cell_type": "code",
   "execution_count": 14,
   "id": "7754e776",
   "metadata": {},
   "outputs": [
    {
     "data": {
      "text/plain": [
       "27278"
      ]
     },
     "execution_count": 14,
     "metadata": {},
     "output_type": "execute_result"
    }
   ],
   "source": [
    "moviesDF.dropDuplicates(\"movieId\", \"title\").count()"
   ]
  },
  {
   "cell_type": "code",
   "execution_count": 15,
   "id": "aebf1597",
   "metadata": {},
   "outputs": [
    {
     "data": {
      "text/plain": [
       "205"
      ]
     },
     "execution_count": 15,
     "metadata": {},
     "output_type": "execute_result"
    }
   ],
   "source": [
    "27483 - 27278\n",
    "// This means there are 205 duplicate records"
   ]
  },
  {
   "cell_type": "code",
   "execution_count": 16,
   "id": "f766cab3",
   "metadata": {},
   "outputs": [
    {
     "data": {
      "text/plain": [
       "rdd = MapPartitionsRDD[75] at map at <console>:40\n"
      ]
     },
     "metadata": {},
     "output_type": "display_data"
    },
    {
     "data": {
      "text/plain": [
       "MapPartitionsRDD[75] at map at <console>:40"
      ]
     },
     "execution_count": 16,
     "metadata": {},
     "output_type": "execute_result"
    }
   ],
   "source": [
    "val rdd = moviesUpdatedDF.rdd.map {row =>\n",
    "    val movieId = row.getAs[Int](\"movieId\")\n",
    "    val title = row.getAs[String](\"title\")\n",
    "    \n",
    "    ((movieId, title), row)\n",
    "}.reduceByKey((r1, _) => r1)\n",
    ".map{ case (_, row) => row }"
   ]
  },
  {
   "cell_type": "code",
   "execution_count": 17,
   "id": "74d4e627",
   "metadata": {},
   "outputs": [
    {
     "data": {
      "text/plain": [
       "27278"
      ]
     },
     "execution_count": 17,
     "metadata": {},
     "output_type": "execute_result"
    }
   ],
   "source": [
    "rdd.count()"
   ]
  },
  {
   "cell_type": "code",
   "execution_count": 18,
   "id": "e0d39d59",
   "metadata": {},
   "outputs": [
    {
     "ename": "Syntax Error.",
     "evalue": "",
     "output_type": "error",
     "traceback": []
    }
   ],
   "source": [
    "// The rdd created from moviesUpdatedDF(records: 27483) has now filtered to rdd(records: 27278) removing duplicate \n",
    "// based on (movieId and title)"
   ]
  },
  {
   "cell_type": "code",
   "execution_count": 19,
   "id": "339ca53e",
   "metadata": {},
   "outputs": [
    {
     "data": {
      "text/plain": [
       "gsPath = gs://spark-tasks-bucket/day_16_17/cleaned_movies\n"
      ]
     },
     "metadata": {},
     "output_type": "display_data"
    },
    {
     "data": {
      "text/plain": [
       "gs://spark-tasks-bucket/day_16_17/cleaned_movies"
      ]
     },
     "execution_count": 19,
     "metadata": {},
     "output_type": "execute_result"
    }
   ],
   "source": [
    "val gsPath = \"gs://spark-tasks-bucket/day_16_17/cleaned_movies\""
   ]
  },
  {
   "cell_type": "code",
   "execution_count": 20,
   "id": "896085ce",
   "metadata": {
    "scrolled": true
   },
   "outputs": [],
   "source": [
    "rdd.map {row =>\n",
    "    val movieId = row.getAs[Int](\"movieId\")\n",
    "    val title = row.getAs[String](\"title\")\n",
    "    val genres = row.getAs[String](\"genres\")\n",
    "    \n",
    "    (movieId, title, genres)\n",
    "}.toDF(\"movieId\", \"title\", \"genres\")\n",
    ".write\n",
    ".format(\"avro\")\n",
    ".mode(\"overwrite\")\n",
    ".save(gsPath)"
   ]
  },
  {
   "cell_type": "code",
   "execution_count": null,
   "id": "32904121",
   "metadata": {},
   "outputs": [],
   "source": []
  },
  {
   "cell_type": "code",
   "execution_count": 22,
   "id": "1d65c187",
   "metadata": {},
   "outputs": [
    {
     "data": {
      "text/plain": [
       "validationDF = [movieId: int, title: string ... 1 more field]\n"
      ]
     },
     "metadata": {},
     "output_type": "display_data"
    },
    {
     "data": {
      "text/plain": [
       "[movieId: int, title: string ... 1 more field]"
      ]
     },
     "execution_count": 22,
     "metadata": {},
     "output_type": "execute_result"
    }
   ],
   "source": [
    "// Read from this path to ensure data is saved as expected\n",
    "val validationDF = spark.read.format(\"avro\").load(gsPath)"
   ]
  },
  {
   "cell_type": "code",
   "execution_count": 24,
   "id": "25c19317",
   "metadata": {},
   "outputs": [
    {
     "name": "stdout",
     "output_type": "stream",
     "text": [
      "+-------+--------------------+--------------------+\n",
      "|movieId|               title|              genres|\n",
      "+-------+--------------------+--------------------+\n",
      "|  82108|Against the Curre...|               Drama|\n",
      "|  94133|  Hammer, The (2010)|               Drama|\n",
      "|  91284|Lonely Passion of...|       Drama|Romance|\n",
      "|  96717|Pearls of the Cro...|              Comedy|\n",
      "|  69042|Flash Gordon's Tr...|       Action|Sci-Fi|\n",
      "|   3530|Smoking/No Smokin...|              Comedy|\n",
      "|  73449| V.I.P.s, The (1963)|               Drama|\n",
      "|  27783|Lost Embrace (Abr...|        Comedy|Drama|\n",
      "|  32369|Panic in the Stre...|Crime|Drama|Film-...|\n",
      "|   4077|With a Friend Lik...|      Drama|Thriller|\n",
      "| 127248|  The Auction (2013)|               Drama|\n",
      "|   1584|      Contact (1997)|        Drama|Sci-Fi|\n",
      "|  89896|Turin Horse, The ...|               Drama|\n",
      "|  73392|     Collapse (2009)|         Documentary|\n",
      "|  85378|Mother Carey's Ch...|       Drama|Romance|\n",
      "|   5131|How to Kill Your ...|        Comedy|Drama|\n",
      "|  75421|Girl of Finland (...|               Drama|\n",
      "|   7893|Return of the Str...|  Action|Crime|Drama|\n",
      "| 122478|Peter and Vandy (...|Comedy|Drama|Romance|\n",
      "| 127232|  The Referee (2013)|              Comedy|\n",
      "+-------+--------------------+--------------------+\n",
      "only showing top 20 rows\n",
      "\n"
     ]
    }
   ],
   "source": [
    "validationDF.show()"
   ]
  },
  {
   "cell_type": "code",
   "execution_count": 25,
   "id": "502bd7b6",
   "metadata": {},
   "outputs": [
    {
     "data": {
      "text/plain": [
       "27278"
      ]
     },
     "execution_count": 25,
     "metadata": {},
     "output_type": "execute_result"
    }
   ],
   "source": [
    "validationDF.count()"
   ]
  },
  {
   "cell_type": "code",
   "execution_count": null,
   "id": "d8a9522b",
   "metadata": {},
   "outputs": [],
   "source": [
    "spark.stop()"
   ]
  }
 ],
 "metadata": {
  "kernelspec": {
   "display_name": "Apache Toree - Scala",
   "language": "scala",
   "name": "apache_toree_scala"
  },
  "language_info": {
   "codemirror_mode": "text/x-scala",
   "file_extension": ".scala",
   "mimetype": "text/x-scala",
   "name": "scala",
   "pygments_lexer": "scala",
   "version": "2.12.15"
  }
 },
 "nbformat": 4,
 "nbformat_minor": 5
}
